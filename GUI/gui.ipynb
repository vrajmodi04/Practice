{
 "cells": [
  {
   "cell_type": "code",
   "execution_count": 6,
   "metadata": {},
   "outputs": [
    {
     "name": "stdout",
     "output_type": "stream",
     "text": [
      "button clicked\n",
      "button clicked\n"
     ]
    }
   ],
   "source": [
    "import tkinter\n",
    "import tkinter.messagebox as msg\n",
    "win=tkinter.Tk()\n",
    "win.title(\"GUI\")\n",
    "win.geometry(\"500x400\")\n",
    "win.resizable(False,False)\n",
    "lbl=tkinter.Label(win, text=\"Name\")\n",
    "lbl.place(x=250,y=20)\n",
    "inp=tkinter.Entry()\n",
    "inp.place(x=20, y=40)\n",
    "def cmd():\n",
    "    print('button clicked')\n",
    "    val = inp.get()\n",
    "\n",
    "    if val:\n",
    "        if val.isalpha():\n",
    "            msg.showinfo(\"Success\", inp.get())\n",
    "        else:\n",
    "            msg.showwarning(\"Warning\", \"only alphabates allowed.\")\n",
    "    else:\n",
    "        msg.showerror(\"Error\", \"error box\")\n",
    "    \n",
    "\n",
    "btn = tkinter.Button(text=\"Submit\", command=cmd)\n",
    "btn.place(x=20, y=60)\n",
    "\n",
    "win.mainloop()\n",
    "\n"
   ]
  }
 ],
 "metadata": {
  "kernelspec": {
   "display_name": "Python 3.9.12 ('base')",
   "language": "python",
   "name": "python3"
  },
  "language_info": {
   "codemirror_mode": {
    "name": "ipython",
    "version": 3
   },
   "file_extension": ".py",
   "mimetype": "text/x-python",
   "name": "python",
   "nbconvert_exporter": "python",
   "pygments_lexer": "ipython3",
   "version": "3.9.12"
  },
  "orig_nbformat": 4,
  "vscode": {
   "interpreter": {
    "hash": "614c6435508b66bcae345ad02564c1e1597395edd5f672bd914407b0d03ec928"
   }
  }
 },
 "nbformat": 4,
 "nbformat_minor": 2
}
