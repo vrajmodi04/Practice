{
 "cells": [
  {
   "cell_type": "code",
   "execution_count": 27,
   "id": "10b42e17",
   "metadata": {},
   "outputs": [],
   "source": [
    "file = open(\"file1.txt\")"
   ]
  },
  {
   "cell_type": "code",
   "execution_count": 29,
   "id": "07e76ee5",
   "metadata": {},
   "outputs": [
    {
     "data": {
      "text/plain": [
       "''"
      ]
     },
     "execution_count": 29,
     "metadata": {},
     "output_type": "execute_result"
    }
   ],
   "source": [
    "file.read()"
   ]
  },
  {
   "cell_type": "code",
   "execution_count": 33,
   "id": "79a6b091",
   "metadata": {},
   "outputs": [],
   "source": [
    "File = open(\"file1.txt\",'r+')"
   ]
  },
  {
   "cell_type": "code",
   "execution_count": 35,
   "id": "f4e4e08f",
   "metadata": {},
   "outputs": [
    {
     "data": {
      "text/plain": [
       "22"
      ]
     },
     "execution_count": 35,
     "metadata": {},
     "output_type": "execute_result"
    }
   ],
   "source": [
    "File.write('\\n how to open a file??')"
   ]
  },
  {
   "cell_type": "code",
   "execution_count": 37,
   "id": "02a0bf5a",
   "metadata": {},
   "outputs": [
    {
     "data": {
      "text/plain": [
       "''"
      ]
     },
     "execution_count": 37,
     "metadata": {},
     "output_type": "execute_result"
    }
   ],
   "source": [
    "File.read()"
   ]
  },
  {
   "cell_type": "code",
   "execution_count": 39,
   "id": "7f1bd3cc",
   "metadata": {},
   "outputs": [],
   "source": [
    "File.close()"
   ]
  }
 ],
 "metadata": {
  "kernelspec": {
   "display_name": "Python 3 (ipykernel)",
   "language": "python",
   "name": "python3"
  },
  "language_info": {
   "codemirror_mode": {
    "name": "ipython",
    "version": 3
   },
   "file_extension": ".py",
   "mimetype": "text/x-python",
   "name": "python",
   "nbconvert_exporter": "python",
   "pygments_lexer": "ipython3",
   "version": "3.9.12"
  }
 },
 "nbformat": 4,
 "nbformat_minor": 5
}
