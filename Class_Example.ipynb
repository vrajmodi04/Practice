{
 "cells": [
  {
   "cell_type": "code",
   "execution_count": 34,
   "id": "121cd786",
   "metadata": {},
   "outputs": [],
   "source": [
    "class RBI:\n",
    "    rbi = \"avbxs\"\n",
    "class Private_Bank(RBI):\n",
    "    private_bank = 'HDFC'\n",
    "class Semi_Government_bank(Private_Bank,RBI):\n",
    "    Semi_Government_bank = 'SBI'\n",
    "class Government_bank(Semi_Government_bank,RBI):\n",
    "    Government_bank = 'GSC'"
   ]
  },
  {
   "cell_type": "code",
   "execution_count": 35,
   "id": "b22eff37",
   "metadata": {},
   "outputs": [],
   "source": [
    "bank = Government_bank()"
   ]
  },
  {
   "cell_type": "code",
   "execution_count": 36,
   "id": "4b57f1ca",
   "metadata": {},
   "outputs": [
    {
     "data": {
      "text/plain": [
       "'GSC'"
      ]
     },
     "execution_count": 36,
     "metadata": {},
     "output_type": "execute_result"
    }
   ],
   "source": [
    "bank.Government_bank"
   ]
  },
  {
   "cell_type": "code",
   "execution_count": 37,
   "id": "19a45feb",
   "metadata": {},
   "outputs": [
    {
     "data": {
      "text/plain": [
       "'SBI'"
      ]
     },
     "execution_count": 37,
     "metadata": {},
     "output_type": "execute_result"
    }
   ],
   "source": [
    "bank.Semi_Government_bank"
   ]
  },
  {
   "cell_type": "code",
   "execution_count": 39,
   "id": "4d3af74c",
   "metadata": {},
   "outputs": [
    {
     "data": {
      "text/plain": [
       "'avbxs'"
      ]
     },
     "execution_count": 39,
     "metadata": {},
     "output_type": "execute_result"
    }
   ],
   "source": [
    "bank.rbi"
   ]
  }
 ],
 "metadata": {
  "kernelspec": {
   "display_name": "Python 3 (ipykernel)",
   "language": "python",
   "name": "python3"
  },
  "language_info": {
   "codemirror_mode": {
    "name": "ipython",
    "version": 3
   },
   "file_extension": ".py",
   "mimetype": "text/x-python",
   "name": "python",
   "nbconvert_exporter": "python",
   "pygments_lexer": "ipython3",
   "version": "3.9.12"
  }
 },
 "nbformat": 4,
 "nbformat_minor": 5
}
