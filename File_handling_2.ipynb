{
 "cells": [
  {
   "cell_type": "code",
   "execution_count": 22,
   "id": "c41fd511",
   "metadata": {},
   "outputs": [],
   "source": [
    "a = open('untitled.txt')"
   ]
  },
  {
   "cell_type": "code",
   "execution_count": 23,
   "id": "952713df",
   "metadata": {},
   "outputs": [
    {
     "data": {
      "text/plain": [
       "'welcomewelcome'"
      ]
     },
     "execution_count": 23,
     "metadata": {},
     "output_type": "execute_result"
    }
   ],
   "source": [
    "a.read()"
   ]
  },
  {
   "cell_type": "code",
   "execution_count": 24,
   "id": "33e10b12",
   "metadata": {},
   "outputs": [],
   "source": [
    "a.close()"
   ]
  },
  {
   "cell_type": "code",
   "execution_count": 25,
   "id": "754d578a",
   "metadata": {},
   "outputs": [],
   "source": [
    "a = open('untitled.txt','w')"
   ]
  },
  {
   "cell_type": "code",
   "execution_count": 26,
   "id": "709f8beb",
   "metadata": {},
   "outputs": [
    {
     "data": {
      "text/plain": [
       "7"
      ]
     },
     "execution_count": 26,
     "metadata": {},
     "output_type": "execute_result"
    }
   ],
   "source": [
    "a.write('welcome')"
   ]
  },
  {
   "cell_type": "code",
   "execution_count": 27,
   "id": "56ee5e5c",
   "metadata": {},
   "outputs": [],
   "source": [
    "a.close()"
   ]
  }
 ],
 "metadata": {
  "kernelspec": {
   "display_name": "Python 3 (ipykernel)",
   "language": "python",
   "name": "python3"
  },
  "language_info": {
   "codemirror_mode": {
    "name": "ipython",
    "version": 3
   },
   "file_extension": ".py",
   "mimetype": "text/x-python",
   "name": "python",
   "nbconvert_exporter": "python",
   "pygments_lexer": "ipython3",
   "version": "3.9.12"
  }
 },
 "nbformat": 4,
 "nbformat_minor": 5
}
