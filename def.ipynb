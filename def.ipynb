{
 "cells": [
  {
   "cell_type": "code",
   "execution_count": 2,
   "id": "3cf0d4b0",
   "metadata": {},
   "outputs": [],
   "source": [
    "def area_finding():\n",
    "    print('area called')"
   ]
  },
  {
   "cell_type": "code",
   "execution_count": 3,
   "id": "99847eef",
   "metadata": {},
   "outputs": [
    {
     "name": "stdout",
     "output_type": "stream",
     "text": [
      "area called\n"
     ]
    }
   ],
   "source": [
    "area_finding()"
   ]
  },
  {
   "cell_type": "code",
   "execution_count": 4,
   "id": "f9e1ab1f",
   "metadata": {},
   "outputs": [
    {
     "data": {
      "text/plain": [
       "function"
      ]
     },
     "execution_count": 4,
     "metadata": {},
     "output_type": "execute_result"
    }
   ],
   "source": [
    "type(area_finding)"
   ]
  },
  {
   "cell_type": "code",
   "execution_count": 13,
   "id": "fcc11416",
   "metadata": {},
   "outputs": [],
   "source": [
    "def area(length,breadth):\n",
    "    print(input(\"length,breadth: \"))\n",
    "    return length*breadth"
   ]
  },
  {
   "cell_type": "code",
   "execution_count": 14,
   "id": "281ac2f4",
   "metadata": {},
   "outputs": [
    {
     "name": "stdout",
     "output_type": "stream",
     "text": [
      "length,breadth: 50,25\n",
      "50,25\n"
     ]
    },
    {
     "data": {
      "text/plain": [
       "1250"
      ]
     },
     "execution_count": 14,
     "metadata": {},
     "output_type": "execute_result"
    }
   ],
   "source": [
    "area(50,25)"
   ]
  },
  {
   "cell_type": "code",
   "execution_count": 19,
   "id": "4fdbe161",
   "metadata": {},
   "outputs": [
    {
     "name": "stdout",
     "output_type": "stream",
     "text": [
      "a(length) and b(breadth): 50 and 25\n",
      "50 and 25\n"
     ]
    },
    {
     "data": {
      "text/plain": [
       "1250"
      ]
     },
     "execution_count": 19,
     "metadata": {},
     "output_type": "execute_result"
    }
   ],
   "source": [
    "def area(a,b):\n",
    "    print(input(\"a(length) and b(breadth): \"))\n",
    "    return a*b\n",
    "area(50,25)"
   ]
  },
  {
   "cell_type": "code",
   "execution_count": 33,
   "id": "395d91ba",
   "metadata": {},
   "outputs": [
    {
     "name": "stdout",
     "output_type": "stream",
     "text": [
      "enter a:5\n",
      "enter b:6\n",
      "enter c:7\n",
      "5 6 7\n"
     ]
    },
    {
     "data": {
      "text/plain": [
       "18"
      ]
     },
     "execution_count": 33,
     "metadata": {},
     "output_type": "execute_result"
    }
   ],
   "source": [
    "def sum(a,b,c):\n",
    "    print(a,b,c)\n",
    "    return a+b+c\n",
    "a=int(input(\"enter a:\"))\n",
    "b=int(input(\"enter b:\"))\n",
    "c=int(input(\"enter c:\"))\n",
    "sum(a,b,c)"
   ]
  },
  {
   "cell_type": "code",
   "execution_count": 35,
   "id": "c1ce2f96",
   "metadata": {},
   "outputs": [
    {
     "name": "stdout",
     "output_type": "stream",
     "text": [
      "enter a:2\n",
      "enter b:2\n",
      "enter c:2\n",
      "2 2 2\n"
     ]
    },
    {
     "data": {
      "text/plain": [
       "8"
      ]
     },
     "execution_count": 35,
     "metadata": {},
     "output_type": "execute_result"
    }
   ],
   "source": [
    "def multiply(a,b,c):\n",
    "    print(a,b,c)\n",
    "    return a*b*c\n",
    "a=int(input(\"enter a:\"))\n",
    "b=int(input(\"enter b:\"))\n",
    "c=int(input(\"enter c:\"))\n",
    "multiply(a,b,c)"
   ]
  },
  {
   "cell_type": "code",
   "execution_count": 2,
   "id": "c3044333",
   "metadata": {},
   "outputs": [
    {
     "name": "stdout",
     "output_type": "stream",
     "text": [
      "Enter a radius: 8\n",
      "200.96\n"
     ]
    }
   ],
   "source": [
    "def area_of_circle(r):\n",
    "    return r*r*3.14\n",
    "print(area_of_circle(int(input(\"Enter a radius: \"))))"
   ]
  },
  {
   "cell_type": "code",
   "execution_count": 6,
   "id": "d9785ccc",
   "metadata": {},
   "outputs": [
    {
     "name": "stdout",
     "output_type": "stream",
     "text": [
      "Enter a(length) :5\n",
      "Enter b(breadth) :8\n",
      "5 8\n"
     ]
    },
    {
     "data": {
      "text/plain": [
       "40"
      ]
     },
     "execution_count": 6,
     "metadata": {},
     "output_type": "execute_result"
    }
   ],
   "source": [
    "def area_of_rectangle(a,b):\n",
    "    print(a,b)\n",
    "    return a*b\n",
    "a=int(input(\"Enter a(length) :\"))\n",
    "b=int(input(\"Enter b(breadth) :\"))\n",
    "area_of_rectangle(a,b)"
   ]
  }
 ],
 "metadata": {
  "kernelspec": {
   "display_name": "Python 3 (ipykernel)",
   "language": "python",
   "name": "python3"
  },
  "language_info": {
   "codemirror_mode": {
    "name": "ipython",
    "version": 3
   },
   "file_extension": ".py",
   "mimetype": "text/x-python",
   "name": "python",
   "nbconvert_exporter": "python",
   "pygments_lexer": "ipython3",
   "version": "3.9.12"
  }
 },
 "nbformat": 4,
 "nbformat_minor": 5
}
