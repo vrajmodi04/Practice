{
 "cells": [
  {
   "cell_type": "code",
   "execution_count": 37,
   "id": "33b105db",
   "metadata": {},
   "outputs": [],
   "source": [
    "class Calculator:\n",
    "    def addition(self,a,b,*number):\n",
    "        s=a+b\n",
    "        for i in number:\n",
    "            s += i\n",
    "        return s\n",
    "    def substraction(self,c,d,*number):\n",
    "        s=c-d\n",
    "        for i in number:\n",
    "            s -= i\n",
    "        return s\n",
    "    def multiplication(self,e,f,*number):\n",
    "        s=e*f\n",
    "        for i in number:\n",
    "            s *= i\n",
    "        return s       \n",
    "    def division(self,g,h,*number):\n",
    "        s=g/h\n",
    "        for i in number:\n",
    "            s /= i\n",
    "        return s\n",
    "    def modulus(self,i,j):\n",
    "        return i % j\n",
    "    def exponentiation(self,k,l):\n",
    "        return k ** l"
   ]
  },
  {
   "cell_type": "code",
   "execution_count": 38,
   "id": "0f0271a4",
   "metadata": {},
   "outputs": [],
   "source": [
    "o=Calculator()"
   ]
  },
  {
   "cell_type": "code",
   "execution_count": 22,
   "id": "1cc55905",
   "metadata": {},
   "outputs": [
    {
     "data": {
      "text/plain": [
       "164"
      ]
     },
     "execution_count": 22,
     "metadata": {},
     "output_type": "execute_result"
    }
   ],
   "source": [
    "o.addition(4,5,5,5,5,5,5,5,5,5,5,5,5,5,5,5,5,5,5,5,5,5,5,5,5,5,5,5,5,5,5,5,5)"
   ]
  },
  {
   "cell_type": "code",
   "execution_count": 40,
   "id": "845ef84e",
   "metadata": {},
   "outputs": [
    {
     "data": {
      "text/plain": [
       "-75"
      ]
     },
     "execution_count": 40,
     "metadata": {},
     "output_type": "execute_result"
    }
   ],
   "source": [
    "o.substraction(5,2,78)"
   ]
  },
  {
   "cell_type": "code",
   "execution_count": null,
   "id": "8574986a",
   "metadata": {},
   "outputs": [],
   "source": [
    "o.multiplication(5,2)"
   ]
  },
  {
   "cell_type": "code",
   "execution_count": null,
   "id": "5e5c4b4c",
   "metadata": {},
   "outputs": [],
   "source": [
    "o.division(5,5)"
   ]
  },
  {
   "cell_type": "code",
   "execution_count": null,
   "id": "5bbe0d8b",
   "metadata": {},
   "outputs": [],
   "source": [
    "o.modulus(5,5)"
   ]
  },
  {
   "cell_type": "code",
   "execution_count": null,
   "id": "56c3912c",
   "metadata": {},
   "outputs": [],
   "source": [
    "o.exponentiation(5,2)"
   ]
  }
 ],
 "metadata": {
  "kernelspec": {
   "display_name": "Python 3 (ipykernel)",
   "language": "python",
   "name": "python3"
  },
  "language_info": {
   "codemirror_mode": {
    "name": "ipython",
    "version": 3
   },
   "file_extension": ".py",
   "mimetype": "text/x-python",
   "name": "python",
   "nbconvert_exporter": "python",
   "pygments_lexer": "ipython3",
   "version": "3.9.12"
  }
 },
 "nbformat": 4,
 "nbformat_minor": 5
}
